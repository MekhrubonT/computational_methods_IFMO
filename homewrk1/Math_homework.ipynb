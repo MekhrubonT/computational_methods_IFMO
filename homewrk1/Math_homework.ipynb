{
 "cells": [
  {
   "cell_type": "code",
   "execution_count": 1,
   "metadata": {
    "collapsed": false
   },
   "outputs": [
    {
     "data": {
      "application/javascript": [
       "IPython.notebook.set_autosave_interval(100000)"
      ]
     },
     "metadata": {},
     "output_type": "display_data"
    },
    {
     "name": "stdout",
     "output_type": "stream",
     "text": [
      "Autosaving every 100 seconds\n"
     ]
    }
   ],
   "source": [
    "%autosave 100"
   ]
  },
  {
   "cell_type": "code",
   "execution_count": 2,
   "metadata": {
    "collapsed": false
   },
   "outputs": [],
   "source": [
    "import numpy as np\n",
    "import numpy.linalg as npl\n",
    "from scipy import linalg as scl"
   ]
  },
  {
   "cell_type": "code",
   "execution_count": 3,
   "metadata": {
    "collapsed": true
   },
   "outputs": [],
   "source": [
    "import contextlib\n",
    "\n",
    "@contextlib.contextmanager\n",
    "def printoptions(*args, **kwargs):\n",
    "    original = np.get_printoptions()\n",
    "    np.set_printoptions(*args, **kwargs)\n",
    "    yield\n",
    "    np.set_printoptions(**original)"
   ]
  },
  {
   "cell_type": "code",
   "execution_count": 4,
   "metadata": {
    "collapsed": true
   },
   "outputs": [],
   "source": [
    "MATRIX_SIZE = 10"
   ]
  },
  {
   "cell_type": "code",
   "execution_count": 5,
   "metadata": {
    "collapsed": false
   },
   "outputs": [],
   "source": [
    "def rand_matrix(N=MATRIX_SIZE, scale=100):\n",
    "    return np.random.normal(scale=scale, size=(N,N))\n",
    "\n",
    "def sym_matrix(N=MATRIX_SIZE, scale=100):\n",
    "    m = rand_matrix(N, scale)\n",
    "    return (m + m.T)/2\n",
    "\n",
    "def diag_dominant_matrix(N=MATRIX_SIZE, scale=100):\n",
    "    m = rand_matrix(N, scale)\n",
    "    for i in range(N):\n",
    "        m[i][i] = (abs(m[i]).sum()) * np.random.uniform(1, N)\n",
    "    return m\n",
    "\n",
    "def hilbert_matrix(N=MATRIX_SIZE, scale=100):\n",
    "    return scl.hilbert(N)\n",
    "\n",
    "def rand_vec(N=MATRIX_SIZE, scale=100):\n",
    "    return np.random.normal(scale=scale, size=(N))"
   ]
  },
  {
   "cell_type": "code",
   "execution_count": 6,
   "metadata": {
    "collapsed": true
   },
   "outputs": [],
   "source": [
    "def cond_num(A):\n",
    "    return npl.norm(A) * npl.norm(npl.inv(A))"
   ]
  },
  {
   "cell_type": "code",
   "execution_count": 7,
   "metadata": {
    "collapsed": true
   },
   "outputs": [],
   "source": [
    "def gauss(mat, vec):\n",
    "    A = np.c_[mat, vec]\n",
    "    N = vec.shape[0]\n",
    "    \n",
    "    for i in range(N):\n",
    "        A[i] /= A[i][i]\n",
    "        for j in range(i+1, N):\n",
    "            A[j] -= A[i] * A[j][i]\n",
    "        \n",
    "    for i in range(N-1, -1, -1):\n",
    "        for j in range(i-1, -1, -1):\n",
    "            A[j] -= A[i] * A[j][i]\n",
    "\n",
    "    return A[:,N]"
   ]
  },
  {
   "cell_type": "code",
   "execution_count": 8,
   "metadata": {
    "collapsed": false
   },
   "outputs": [],
   "source": [
    "def jacobi(mat, vec, eps=1e-8, max_iter=int(1e6)):\n",
    "    a = mat.copy()\n",
    "    b = vec.copy()\n",
    "    N = b.shape[0]\n",
    "    \n",
    "    for i in range(N):\n",
    "        b[i] /= a[i][i]\n",
    "        a[i] /= -a[i][i]\n",
    "        a[i][i] = 0\n",
    "        \n",
    "    x_ = b.copy()\n",
    "    norm = 1\n",
    "    iters = 0\n",
    "    while norm > eps and iters < max_iter:\n",
    "        x = (a @ x_) + b\n",
    "        norm = npl.norm(x - x_)\n",
    "        x_ = x\n",
    "        iters += 1\n",
    "    \n",
    "    if (iters >= max_iter):\n",
    "        print('Превышено максимальное число итераций. Текущая норма:', norm)\n",
    "    else:\n",
    "        print('Итераций:', iters)\n",
    "    \n",
    "    return x"
   ]
  },
  {
   "cell_type": "code",
   "execution_count": 9,
   "metadata": {
    "collapsed": true
   },
   "outputs": [],
   "source": [
    "def zeidel(mat, vec, eps=1e-8, max_iter=int(1e6), relax=True, omega=0.5):\n",
    "    a = mat.copy()\n",
    "    b = vec.copy()\n",
    "    N = b.shape[0]\n",
    "    \n",
    "    for i in range(N):\n",
    "        b[i] /= a[i][i]\n",
    "        a[i] /= -a[i][i]\n",
    "        a[i][i] = 0\n",
    "        \n",
    "    x_ = b.copy()\n",
    "    x = np.zeros(b.shape)\n",
    "    norm = 1\n",
    "    iters = 0\n",
    "    while norm > eps and iters < max_iter:\n",
    "        x = x_.copy()\n",
    "        for i in range(N):\n",
    "            x[i] = (x[0:i] * a[i][0:i]).sum() + (x_[i:] * a[i][i:]).sum() + b[i]\n",
    "        if relax:\n",
    "            x = x*omega + x_*(1-omega)\n",
    "        norm = npl.norm(x - x_)\n",
    "        x_ = x\n",
    "        iters += 1\n",
    "    \n",
    "    if (iters >= max_iter):\n",
    "        print('Превышено максимальное число итераций. Текущая норма:', norm)\n",
    "    else:\n",
    "        print('Итераций:', iters)\n",
    "    return x"
   ]
  },
  {
   "cell_type": "code",
   "execution_count": 10,
   "metadata": {
    "collapsed": true
   },
   "outputs": [],
   "source": [
    "def con_gradient(mat, vec, eps=1e-4, max_iter=int(1e6)):\n",
    "    a = mat.copy()\n",
    "    b = vec.copy()\n",
    "    x_ = np.zeros(b.shape)\n",
    "    iters = 0\n",
    "    norm = 1\n",
    "    \n",
    "    while norm > eps and iters < max_iter:\n",
    "        g = a @ x_ - b\n",
    "        if iters == 0:\n",
    "            r = -g\n",
    "        else:\n",
    "            r = -g + (((a @ r_) @ g) / ((a @ r_) @ r_))*r_\n",
    "        s = - (g @ r)/((a @ r) @ r)\n",
    "        x = x_ + s * r\n",
    "        r_ = r\n",
    "        x_ = x\n",
    "        norm = npl.norm(r) / npl.norm(b)\n",
    "        iters += 1\n",
    "        \n",
    "    if (iters >= max_iter):\n",
    "        print('Превышено максимальное число итераций. Текущая норма:', norm)\n",
    "    else:\n",
    "        print('Итераций:', iters)\n",
    "    return x"
   ]
  },
  {
   "cell_type": "code",
   "execution_count": 11,
   "metadata": {
    "collapsed": false
   },
   "outputs": [],
   "source": [
    "def solve_random(gen_mat, gen_vec, solver, N=MATRIX_SIZE, scale=100):\n",
    "    solve(gen_mat(N, scale), gen_vec(N, scale), solver)\n",
    "    \n",
    "def solve(A, b, solver, print_log=True, **kwargs):\n",
    "    with printoptions(precision=3, suppress=True): \n",
    "        if print_log:\n",
    "            print('A')\n",
    "            print(A)\n",
    "            print('Число обусловленности A:', cond_num(A))\n",
    "            print('b')\n",
    "            print(b)\n",
    "        x = solver(A,b, **kwargs)\n",
    "        if print_log:\n",
    "            print('x')\n",
    "            print(x)\n",
    "            print('Проверка Ax = b :', np.allclose(A @ x, b))\n",
    "        return x"
   ]
  },
  {
   "cell_type": "code",
   "execution_count": 12,
   "metadata": {
    "collapsed": false
   },
   "outputs": [
    {
     "name": "stdout",
     "output_type": "stream",
     "text": [
      "A\n",
      "[[ -64.287 -183.334   35.249   32.866   20.75   -98.766  -87.632  -68.504\n",
      "   -10.141   53.875]\n",
      " [  -6.341   20.97   126.294   66.299  -93.836  -39.822   30.348 -198.05\n",
      "   104.856    5.731]\n",
      " [-147.965 -160.199   29.499  205.732   34.862   87.859  -38.137  -61.103\n",
      "  -125.45   -34.275]\n",
      " [  13.429  -18.093   23.327  -53.537    2.716   29.301 -175.154   48.642\n",
      "    45.595  -83.067]\n",
      " [ -37.779   25.258   34.218 -193.529  -63.687  174.195   16.215  -69.497\n",
      "    23.931   41.273]\n",
      " [ 203.68   127.345   11.897  -83.13    17.892   88.029   46.69    39.652\n",
      "    71.852  -93.928]\n",
      " [  43.254 -109.338   30.984  -52.915   59.196   62.103   67.935  128.94\n",
      "   117.871  147.917]\n",
      " [-194.871    7.977 -188.478  140.85  -212.967  -61.872  -81.062   63.074\n",
      "  -251.012  -36.75 ]\n",
      " [   5.786  -96.753  133.225  -35.643  126.364  -83.691 -106.235  101.699\n",
      "   108.247 -129.868]\n",
      " [ 131.642   26.536   44.806  -50.34    96.035    3.301   16.769 -122.381\n",
      "  -259.012   56.997]]\n",
      "Число обусловленности A: 27.2724981744\n",
      "b\n",
      "[-229.626   45.248   18.282  217.516  133.171   87.652  109.259  -15.37\n",
      " -146.726 -162.951]\n",
      "x\n",
      "[-0.123  1.899  0.838  1.187 -0.15   1.557 -1.88   0.713  0.543  1.643]\n",
      "Проверка Ax = b : True\n"
     ]
    }
   ],
   "source": [
    "solve_random(rand_matrix, rand_vec, gauss)"
   ]
  },
  {
   "cell_type": "code",
   "execution_count": 13,
   "metadata": {
    "collapsed": false
   },
   "outputs": [
    {
     "name": "stdout",
     "output_type": "stream",
     "text": [
      "A\n",
      "[[ 3450.014  -258.512  -134.74    -37.295   -73.099    29.255    27.361\n",
      "     29.344    -7.286   -26.638]\n",
      " [ -181.6    2587.65   -123.222  -152.973    65.837   -37.101   -18.143\n",
      "    166.956   -58.61    -49.863]\n",
      " [   79.032   -19.306  2912.056    94.289  -151.183   125.403  -129.995\n",
      "     -2.674  -154.515   -74.615]\n",
      " [  198.875    59.488   -53.843  2692.221   -22.22    194.59     87.083\n",
      "    -89.357    45.575    -7.609]\n",
      " [  -87.849   114.37    -63.377    90.194  5781.531   -70.802    68.359\n",
      "     77.431   -27.345   -38.777]\n",
      " [    4.451   103.283    63.972   116.574   -81.831  4900.16    105.148\n",
      "    -68.38     45.553    -8.058]\n",
      " [  176.405    -9.078   146.139   151.465   -74.319    75.631  6592.268\n",
      "     28.63   -161.747    55.456]\n",
      " [ -129.008   -46.845  -104.752    96.972    66.462   -78.666   -79.492\n",
      "   1425.779   252.622   126.575]\n",
      " [   76.252    97.408     0.936   -13.957    30.069   -77.748     9.709\n",
      "     78.273   612.6     -66.971]\n",
      " [  147.427   -31.061    41.447   223.522  -134.796  -113.369  -124.603\n",
      "    -10.523   -88.067  4208.826]]\n",
      "Число обусловленности A: 25.04032022\n",
      "b\n",
      "[ -24.961   24.782  -61.724  -28.449  109.508  -17.178 -131.196   50.605\n",
      "  142.88   102.485]\n",
      "Итераций: 11\n",
      "x\n",
      "[-0.005  0.014 -0.007 -0.014  0.02  -0.005 -0.013 -0.01   0.235  0.03 ]\n",
      "Проверка Ax = b : True\n"
     ]
    }
   ],
   "source": [
    "solve_random(diag_dominant_matrix, rand_vec, jacobi)"
   ]
  },
  {
   "cell_type": "code",
   "execution_count": 14,
   "metadata": {
    "collapsed": false
   },
   "outputs": [
    {
     "name": "stdout",
     "output_type": "stream",
     "text": [
      "A\n",
      "[[  5792.718   -150.3       26.384   -202.204     85.593    -71.795\n",
      "     112.788    -29.181    -81.749    -25.978]\n",
      " [   -12.758   5252.099     99.633    -45.534    -47.973    135.       -71.041\n",
      "      45.602    142.81      29.093]\n",
      " [   -58.786    197.891   2601.492     76.644    -49.298     33.195\n",
      "      23.224     44.147    -59.441     88.519]\n",
      " [   108.918     97.578    126.089   6357.148     82.841   -132.824\n",
      "    -164.154    -70.721     -3.769   -140.96 ]\n",
      " [   190.097    177.16    -146.528     33.053  11073.576    -20.694\n",
      "      90.468   -238.79    -107.424     91.499]\n",
      " [   117.694    210.838     -5.33     106.476   -230.625   8002.31\n",
      "     -89.686    -11.499     56.597     47.812]\n",
      " [    97.009    -95.052    -26.379    -86.683    148.492    -36.775\n",
      "    7318.065   -183.429   -211.619    -91.364]\n",
      " [     8.588     -4.855   -250.789   -159.982     38.194     29.595\n",
      "      37.715   1302.183     83.475     21.887]\n",
      " [  -114.89      30.63      39.365    133.438    -16.262   -136.429\n",
      "    -105.923     48.691   7549.962    -25.778]\n",
      " [  -251.776    -71.413    -94.194     35.26     169.825   -123.502\n",
      "     -40.832    -11.901      1.071   1111.463]]\n",
      "Число обусловленности A: 26.4092401869\n",
      "b\n",
      "[-117.92  -130.578   78.049  221.447   16.646 -102.256  -25.745  -72.067\n",
      "  113.933   18.685]\n",
      "Итераций: 21\n",
      "x\n",
      "[-0.02  -0.025  0.031  0.034  0.002 -0.012 -0.004 -0.046  0.014  0.01 ]\n",
      "Проверка Ax = b : True\n"
     ]
    }
   ],
   "source": [
    "solve_random(diag_dominant_matrix, rand_vec, zeidel)"
   ]
  },
  {
   "cell_type": "code",
   "execution_count": 15,
   "metadata": {
    "collapsed": false
   },
   "outputs": [
    {
     "name": "stdout",
     "output_type": "stream",
     "text": [
      "A\n",
      "[[-141.575   67.055    6.766  -12.457  -34.319  -81.824  105.75  -172.102\n",
      "    38.284  -56.029]\n",
      " [  67.055  -89.199   61.3     62.783  -60.329    7.244   -9.606  139.25\n",
      "   -87.914   29.04 ]\n",
      " [   6.766   61.3    181.211  -28.052    8.33   -18.749  113.993  -34.085\n",
      "    49.434  -15.877]\n",
      " [ -12.457   62.783  -28.052   97.531  -23.352  124.933   13.857    2.068\n",
      "    70.374  -52.7  ]\n",
      " [ -34.319  -60.329    8.33   -23.352   21.831  -55.552   35.696   86.793\n",
      "    19.154  -17.311]\n",
      " [ -81.824    7.244  -18.749  124.933  -55.552 -165.651  -60.378  -50.611\n",
      "   -34.351   78.302]\n",
      " [ 105.75    -9.606  113.993   13.857   35.696  -60.378   17.536 -121.787\n",
      "   -20.302  -12.28 ]\n",
      " [-172.102  139.25   -34.085    2.068   86.793  -50.611 -121.787    0.99\n",
      "   -77.069 -103.724]\n",
      " [  38.284  -87.914   49.434   70.374   19.154  -34.351  -20.302  -77.069\n",
      "  -113.6      6.591]\n",
      " [ -56.029   29.04   -15.877  -52.7    -17.311   78.302  -12.28  -103.724\n",
      "     6.591   -0.242]]\n",
      "Число обусловленности A: 35.4011869804\n",
      "b\n",
      "[ 173.039  -74.856 -175.125 -115.729    0.804   33.187  -63.265 -144.053\n",
      "   74.406   38.606]\n",
      "Итераций: 11\n",
      "x\n",
      "[ 0.07  -0.262 -1.741 -0.273  0.098 -0.224  1.683 -0.539 -1.173  0.57 ]\n",
      "Проверка Ax = b : True\n"
     ]
    }
   ],
   "source": [
    "solve_random(sym_matrix, rand_vec, con_gradient)"
   ]
  },
  {
   "cell_type": "code",
   "execution_count": 16,
   "metadata": {
    "collapsed": false
   },
   "outputs": [
    {
     "name": "stdout",
     "output_type": "stream",
     "text": [
      "A\n",
      "[[ 1.     0.5    0.333  0.25   0.2    0.167  0.143  0.125  0.111  0.1  ]\n",
      " [ 0.5    0.333  0.25   0.2    0.167  0.143  0.125  0.111  0.1    0.091]\n",
      " [ 0.333  0.25   0.2    0.167  0.143  0.125  0.111  0.1    0.091  0.083]\n",
      " [ 0.25   0.2    0.167  0.143  0.125  0.111  0.1    0.091  0.083  0.077]\n",
      " [ 0.2    0.167  0.143  0.125  0.111  0.1    0.091  0.083  0.077  0.071]\n",
      " [ 0.167  0.143  0.125  0.111  0.1    0.091  0.083  0.077  0.071  0.067]\n",
      " [ 0.143  0.125  0.111  0.1    0.091  0.083  0.077  0.071  0.067  0.062]\n",
      " [ 0.125  0.111  0.1    0.091  0.083  0.077  0.071  0.067  0.062  0.059]\n",
      " [ 0.111  0.1    0.091  0.083  0.077  0.071  0.067  0.062  0.059  0.056]\n",
      " [ 0.1    0.091  0.083  0.077  0.071  0.067  0.062  0.059  0.056  0.053]]\n",
      "Число обусловленности A: 1.63321977091e+13\n",
      "b\n",
      "[-152.105   69.356  -57.915  249.15    -2.568 -103.522  130.613 -173.132\n",
      "   60.712  -30.766]\n",
      "Превышено максимальное число итераций. Текущая норма: 0.815786251079\n",
      "x\n",
      "[  3.551e+09  -3.105e+11   6.671e+12  -6.105e+13   2.927e+14  -8.081e+14\n",
      "   1.330e+15  -1.290e+15   6.787e+14  -1.496e+14]\n",
      "Проверка Ax = b : False\n"
     ]
    }
   ],
   "source": [
    "solve_random(hilbert_matrix, rand_vec, con_gradient)"
   ]
  },
  {
   "cell_type": "code",
   "execution_count": 17,
   "metadata": {
    "collapsed": false
   },
   "outputs": [
    {
     "name": "stdout",
     "output_type": "stream",
     "text": [
      "[ -1.27622656e+08   1.09412458e+10  -2.31747644e+11   2.09796555e+12\n",
      "  -9.97384597e+12   2.73447515e+13  -4.47650404e+13   4.31794199e+13\n",
      "  -2.26325802e+13   4.97034868e+12]\n",
      "Превышено максимальное число итераций. Текущая норма: 1.59773036352\n",
      "[ -1.27442287e+08   1.09255517e+10  -2.31411602e+11   2.09489810e+12\n",
      "  -9.95916708e+12   2.73042917e+13  -4.46985109e+13   4.31150061e+13\n",
      "  -2.25987091e+13   4.96288949e+12]\n"
     ]
    }
   ],
   "source": [
    "A = hilbert_matrix(N=10, scale=10)\n",
    "b = rand_vec(10, 10)\n",
    "print(solve(A, b, gauss, False))\n",
    "print(solve(A, b, con_gradient, print_log=False))"
   ]
  }
 ],
 "metadata": {
  "kernelspec": {
   "display_name": "Python 3",
   "language": "python",
   "name": "python3"
  },
  "language_info": {
   "codemirror_mode": {
    "name": "ipython",
    "version": 3
   },
   "file_extension": ".py",
   "mimetype": "text/x-python",
   "name": "python",
   "nbconvert_exporter": "python",
   "pygments_lexer": "ipython3",
   "version": "3.6.0"
  }
 },
 "nbformat": 4,
 "nbformat_minor": 2
}
